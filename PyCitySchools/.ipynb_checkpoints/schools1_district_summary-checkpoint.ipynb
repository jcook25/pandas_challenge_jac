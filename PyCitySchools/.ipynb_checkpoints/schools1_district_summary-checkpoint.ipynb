{
 "cells": [
  {
   "cell_type": "code",
   "execution_count": 13,
   "metadata": {},
   "outputs": [],
   "source": [
    "# Dependencies and Setup\n",
    "import pandas as pd\n",
    "import numpy as np\n",
    "\n",
    "# File to Load (Remember to Change These)\n",
    "school_raw = \"Resources/schools_complete.csv\"\n",
    "student_raw = \"Resources/students_complete.csv\"\n",
    "\n",
    "# Read School and Student Data File and store into Pandas Data Frames\n",
    "scdf = pd.read_csv(school_raw)\n",
    "stdf = pd.read_csv(student_raw)"
   ]
  },
  {
   "cell_type": "code",
   "execution_count": 14,
   "metadata": {},
   "outputs": [],
   "source": [
    "# Combine the data into a single dataset\n",
    "cdf = pd.merge(scdf, stdf, how=\"left\", on=[\"school_name\"])"
   ]
  },
  {
   "cell_type": "code",
   "execution_count": 15,
   "metadata": {},
   "outputs": [],
   "source": [
    "ccdf = cdf[\n",
    " ['school_name',\n",
    " 'type',\n",
    " 'size',\n",
    " 'budget',\n",
    " 'student_name',\n",
    " 'gender',\n",
    " 'grade',\n",
    " 'reading_score',\n",
    " 'math_score']]"
   ]
  },
  {
   "cell_type": "code",
   "execution_count": 16,
   "metadata": {},
   "outputs": [],
   "source": [
    "sch_tot = len(cdf['school_name'].unique())\n",
    "sch_tot\n",
    "\n",
    "stu_tot = len(cdf.student_name.unique())\n",
    "stu_tot\n",
    "\n",
    "budget_tot_sch = scdf.budget.sum()\n",
    "budget_tot = cdf.budget.unique().sum()\n",
    "\n",
    "read_avg = cdf.reading_score.mean()\n",
    "math_avg = cdf.math_score.mean()"
   ]
  },
  {
   "cell_type": "code",
   "execution_count": 17,
   "metadata": {},
   "outputs": [],
   "source": [
    "read_bool = cdf['reading_score'] >= 70\n",
    "math_bool = cdf['math_score'] >= 70\n",
    "read_pct = np.sum(read_bool)/read_bool.count()*100\n",
    "math_pct = np.sum(math_bool)/math_bool.count()*100\n",
    "tot_pct = (math_pct + read_pct)/2"
   ]
  },
  {
   "cell_type": "code",
   "execution_count": 18,
   "metadata": {},
   "outputs": [],
   "source": [
    "sccdf = pd.DataFrame([{\"Total Schools\": sch_tot,\n",
    "         \"Total Students\": stu_tot,\n",
    "         \"Total Budget\": budget_tot,\n",
    "         \"Average Math Score\": math_avg,\n",
    "         \"Average Reading Score\": read_avg,\n",
    "         \"% Passing Math\": math_pct,\n",
    "         \"% Passing Reading\": read_pct,\n",
    "         \"% Overall Passing Rate\": tot_pct}])"
   ]
  },
  {
   "cell_type": "code",
   "execution_count": 19,
   "metadata": {},
   "outputs": [],
   "source": [
    "sccdf[\"Total Budget\"] = sccdf[\"Total Budget\"].map(\"${:,.2f}\".format)\n",
    "sccdf[\"Average Math Score\"] = sccdf[\"Average Math Score\"].map(\"{:.2f}%\".format)\n",
    "sccdf[\"Average Reading Score\"] = sccdf[\"Average Reading Score\"].map(\"{:.2f}%\".format)\n",
    "sccdf[\"% Passing Math\"] = sccdf[\"% Passing Math\"].map(\"{:.2f}%\".format)\n",
    "sccdf[\"% Passing Reading\"] =sccdf[\"% Passing Reading\"].map(\"{:.2f}%\".format)\n",
    "sccdf[\"% Overall Passing Rate\"] = sccdf[\"% Overall Passing Rate\"].map(\"{:.2f}%\".format)\n",
    "sccdf[\"Total Students\"] = sccdf[\"Total Students\"].map(\"{:,}\".format)"
   ]
  },
  {
   "cell_type": "code",
   "execution_count": 20,
   "metadata": {},
   "outputs": [
    {
     "data": {
      "text/html": [
       "<style  type=\"text/css\" >\n",
       "</style><table id=\"T_b1691d76_2f5d_11ea_ae15_982cbcbf4aae\" ><thead>    <tr>        <th class=\"blank level0\" ></th>        <th class=\"col_heading level0 col0\" >Total Schools</th>        <th class=\"col_heading level0 col1\" >Total Students</th>        <th class=\"col_heading level0 col2\" >Total Budget</th>        <th class=\"col_heading level0 col3\" >Average Math Score</th>        <th class=\"col_heading level0 col4\" >Average Reading Score</th>        <th class=\"col_heading level0 col5\" >% Passing Math</th>        <th class=\"col_heading level0 col6\" >% Passing Reading</th>        <th class=\"col_heading level0 col7\" >% Overall Passing Rate</th>    </tr></thead><tbody>\n",
       "                <tr>\n",
       "                        <th id=\"T_b1691d76_2f5d_11ea_ae15_982cbcbf4aaelevel0_row0\" class=\"row_heading level0 row0\" >0</th>\n",
       "                        <td id=\"T_b1691d76_2f5d_11ea_ae15_982cbcbf4aaerow0_col0\" class=\"data row0 col0\" >15</td>\n",
       "                        <td id=\"T_b1691d76_2f5d_11ea_ae15_982cbcbf4aaerow0_col1\" class=\"data row0 col1\" >32,715</td>\n",
       "                        <td id=\"T_b1691d76_2f5d_11ea_ae15_982cbcbf4aaerow0_col2\" class=\"data row0 col2\" >$24,649,428.00</td>\n",
       "                        <td id=\"T_b1691d76_2f5d_11ea_ae15_982cbcbf4aaerow0_col3\" class=\"data row0 col3\" >78.99%</td>\n",
       "                        <td id=\"T_b1691d76_2f5d_11ea_ae15_982cbcbf4aaerow0_col4\" class=\"data row0 col4\" >81.88%</td>\n",
       "                        <td id=\"T_b1691d76_2f5d_11ea_ae15_982cbcbf4aaerow0_col5\" class=\"data row0 col5\" >74.98%</td>\n",
       "                        <td id=\"T_b1691d76_2f5d_11ea_ae15_982cbcbf4aaerow0_col6\" class=\"data row0 col6\" >85.81%</td>\n",
       "                        <td id=\"T_b1691d76_2f5d_11ea_ae15_982cbcbf4aaerow0_col7\" class=\"data row0 col7\" >80.39%</td>\n",
       "            </tr>\n",
       "    </tbody></table>"
      ],
      "text/plain": [
       "<pandas.io.formats.style.Styler at 0x263b570c588>"
      ]
     },
     "execution_count": 20,
     "metadata": {},
     "output_type": "execute_result"
    }
   ],
   "source": [
    "sccdf.style"
   ]
  },
  {
   "cell_type": "code",
   "execution_count": null,
   "metadata": {},
   "outputs": [],
   "source": []
  }
 ],
 "metadata": {
  "kernelspec": {
   "display_name": "Python 3",
   "language": "python",
   "name": "python3"
  },
  "language_info": {
   "codemirror_mode": {
    "name": "ipython",
    "version": 3
   },
   "file_extension": ".py",
   "mimetype": "text/x-python",
   "name": "python",
   "nbconvert_exporter": "python",
   "pygments_lexer": "ipython3",
   "version": "3.7.4"
  }
 },
 "nbformat": 4,
 "nbformat_minor": 4
}
