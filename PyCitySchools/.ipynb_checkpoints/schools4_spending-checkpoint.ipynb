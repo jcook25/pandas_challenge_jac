{
 "cells": [
  {
   "cell_type": "code",
   "execution_count": 22,
   "metadata": {},
   "outputs": [
    {
     "data": {
      "text/html": [
       "<style  type=\"text/css\" >\n",
       "</style><table id=\"T_a7e3011e_2f5e_11ea_aad5_982cbcbf4aae\" ><thead>    <tr>        <th class=\"blank level0\" ></th>        <th class=\"col_heading level0 col0\" >Average Math Score</th>        <th class=\"col_heading level0 col1\" >Average Reading Score</th>        <th class=\"col_heading level0 col2\" >% Passing Math</th>        <th class=\"col_heading level0 col3\" >% Passing Reading</th>        <th class=\"col_heading level0 col4\" >% Overall Passing Rate</th>    </tr>    <tr>        <th class=\"index_name level0\" >Spending Ranges(Per Student)</th>        <th class=\"blank\" ></th>        <th class=\"blank\" ></th>        <th class=\"blank\" ></th>        <th class=\"blank\" ></th>        <th class=\"blank\" ></th>    </tr></thead><tbody>\n",
       "                <tr>\n",
       "                        <th id=\"T_a7e3011e_2f5e_11ea_aad5_982cbcbf4aaelevel0_row0\" class=\"row_heading level0 row0\" ><$585</th>\n",
       "                        <td id=\"T_a7e3011e_2f5e_11ea_aad5_982cbcbf4aaerow0_col0\" class=\"data row0 col0\" >83.3631</td>\n",
       "                        <td id=\"T_a7e3011e_2f5e_11ea_aad5_982cbcbf4aaerow0_col1\" class=\"data row0 col1\" >83.964</td>\n",
       "                        <td id=\"T_a7e3011e_2f5e_11ea_aad5_982cbcbf4aaerow0_col2\" class=\"data row0 col2\" >0.937029</td>\n",
       "                        <td id=\"T_a7e3011e_2f5e_11ea_aad5_982cbcbf4aaerow0_col3\" class=\"data row0 col3\" >0.966866</td>\n",
       "                        <td id=\"T_a7e3011e_2f5e_11ea_aad5_982cbcbf4aaerow0_col4\" class=\"data row0 col4\" >0.951947</td>\n",
       "            </tr>\n",
       "            <tr>\n",
       "                        <th id=\"T_a7e3011e_2f5e_11ea_aad5_982cbcbf4aaelevel0_row1\" class=\"row_heading level0 row1\" >$585-615</th>\n",
       "                        <td id=\"T_a7e3011e_2f5e_11ea_aad5_982cbcbf4aaerow1_col0\" class=\"data row1 col0\" >83.5292</td>\n",
       "                        <td id=\"T_a7e3011e_2f5e_11ea_aad5_982cbcbf4aaerow1_col1\" class=\"data row1 col1\" >83.8384</td>\n",
       "                        <td id=\"T_a7e3011e_2f5e_11ea_aad5_982cbcbf4aaerow1_col2\" class=\"data row1 col2\" >0.941241</td>\n",
       "                        <td id=\"T_a7e3011e_2f5e_11ea_aad5_982cbcbf4aaerow1_col3\" class=\"data row1 col3\" >0.958869</td>\n",
       "                        <td id=\"T_a7e3011e_2f5e_11ea_aad5_982cbcbf4aaerow1_col4\" class=\"data row1 col4\" >0.950055</td>\n",
       "            </tr>\n",
       "            <tr>\n",
       "                        <th id=\"T_a7e3011e_2f5e_11ea_aad5_982cbcbf4aaelevel0_row2\" class=\"row_heading level0 row2\" >$615-645</th>\n",
       "                        <td id=\"T_a7e3011e_2f5e_11ea_aad5_982cbcbf4aaerow2_col0\" class=\"data row2 col0\" >78.0616</td>\n",
       "                        <td id=\"T_a7e3011e_2f5e_11ea_aad5_982cbcbf4aaerow2_col1\" class=\"data row2 col1\" >81.4341</td>\n",
       "                        <td id=\"T_a7e3011e_2f5e_11ea_aad5_982cbcbf4aaerow2_col2\" class=\"data row2 col2\" >0.714004</td>\n",
       "                        <td id=\"T_a7e3011e_2f5e_11ea_aad5_982cbcbf4aaerow2_col3\" class=\"data row2 col3\" >0.836148</td>\n",
       "                        <td id=\"T_a7e3011e_2f5e_11ea_aad5_982cbcbf4aaerow2_col4\" class=\"data row2 col4\" >0.775076</td>\n",
       "            </tr>\n",
       "            <tr>\n",
       "                        <th id=\"T_a7e3011e_2f5e_11ea_aad5_982cbcbf4aaelevel0_row3\" class=\"row_heading level0 row3\" >$645-675</th>\n",
       "                        <td id=\"T_a7e3011e_2f5e_11ea_aad5_982cbcbf4aaerow3_col0\" class=\"data row3 col0\" >77.0493</td>\n",
       "                        <td id=\"T_a7e3011e_2f5e_11ea_aad5_982cbcbf4aaerow3_col1\" class=\"data row3 col1\" >81.0056</td>\n",
       "                        <td id=\"T_a7e3011e_2f5e_11ea_aad5_982cbcbf4aaerow3_col2\" class=\"data row3 col2\" >0.662308</td>\n",
       "                        <td id=\"T_a7e3011e_2f5e_11ea_aad5_982cbcbf4aaerow3_col3\" class=\"data row3 col3\" >0.811094</td>\n",
       "                        <td id=\"T_a7e3011e_2f5e_11ea_aad5_982cbcbf4aaerow3_col4\" class=\"data row3 col4\" >0.736701</td>\n",
       "            </tr>\n",
       "    </tbody></table>"
      ],
      "text/plain": [
       "<pandas.io.formats.style.Styler at 0x18a9b2c37c8>"
      ]
     },
     "execution_count": 22,
     "metadata": {},
     "output_type": "execute_result"
    }
   ],
   "source": [
    "# Dependencies and Setup\n",
    "import pandas as pd\n",
    "import numpy as np\n",
    "\n",
    "# File to Load (Remember to Change These)\n",
    "school_raw = \"Resources/schools_complete.csv\"\n",
    "student_raw = \"Resources/students_complete.csv\"\n",
    "\n",
    "# Read School and Student Data File and store into Pandas Data Frames\n",
    "scdf = pd.read_csv(school_raw)\n",
    "stdf = pd.read_csv(student_raw)\n",
    "\n",
    "# Combine the data into a single dataset\n",
    "cdf = pd.merge(scdf, stdf, how=\"left\", on=[\"school_name\", \"school_name\"])\n",
    "\n",
    "ccdf = cdf[['reading_score', 'math_score']]\n",
    "ccdf = pd.DataFrame(ccdf)\n",
    "ccdf['bps'] = cdf['budget'] / cdf['size']\n",
    "ccdf['pm'] = cdf['math_score'] >= 70\n",
    "ccdf['pr'] = cdf['reading_score'] >= 70\n",
    "\n",
    "# Sample bins. Feel free to create your own bins.\n",
    "bins = [0, 585, 615, 645, 675]\n",
    "group_names = [\"<$585\", \"$585-615\", \"$615-645\", \"$645-675\"]\n",
    "ccdf['Spending Ranges(Per Student)'] = pd.cut(ccdf[\"bps\"], bins, labels=group_names)\n",
    "\n",
    "gbo = ccdf.groupby(\"Spending Ranges(Per Student)\")\n",
    "\n",
    "gcdf = gbo.agg({  \"reading_score\":\"mean\",\n",
    "                  \"math_score\":\"mean\", \n",
    "                  \"pm\":\"sum\", \n",
    "                  \"pr\":\"sum\"\n",
    "               })\n",
    "gcdf['tc'] = gbo['bps'].count()\n",
    "\n",
    "gcdf['% Passing Math'] = gcdf.pm / gcdf.tc\n",
    "gcdf['% Passing Reading'] = gcdf.pr / gcdf.tc\n",
    "gcdf['% Overall Passing Rate'] = (gcdf['% Passing Reading'] + gcdf['% Passing Math']) / 2\n",
    "\n",
    "fdf = gcdf.rename(columns={'reading_score':'Average Reading Score',\n",
    "                           'math_score':'Average Math Score'})\n",
    "\n",
    "fdf = fdf[[ 'Average Math Score','Average Reading Score', '% Passing Math', '% Passing Reading', '% Overall Passing Rate']]\n",
    "\n",
    "fdf.style"
   ]
  },
  {
   "cell_type": "code",
   "execution_count": null,
   "metadata": {},
   "outputs": [],
   "source": []
  }
 ],
 "metadata": {
  "kernelspec": {
   "display_name": "Python 3",
   "language": "python",
   "name": "python3"
  },
  "language_info": {
   "codemirror_mode": {
    "name": "ipython",
    "version": 3
   },
   "file_extension": ".py",
   "mimetype": "text/x-python",
   "name": "python",
   "nbconvert_exporter": "python",
   "pygments_lexer": "ipython3",
   "version": "3.7.4"
  }
 },
 "nbformat": 4,
 "nbformat_minor": 4
}
