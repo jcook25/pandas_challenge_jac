{
 "cells": [
  {
   "cell_type": "code",
   "execution_count": 2,
   "metadata": {},
   "outputs": [
    {
     "data": {
      "text/html": [
       "<style  type=\"text/css\" >\n",
       "</style><table id=\"T_3efca6ca_23c1_11ea_8de3_982cbcbf4aae\" ><thead>    <tr>        <th class=\"blank level0\" ></th>        <th class=\"col_heading level0 col0\" >Average Math Score</th>        <th class=\"col_heading level0 col1\" >Average Reading Score</th>        <th class=\"col_heading level0 col2\" >% Passing Math</th>        <th class=\"col_heading level0 col3\" >% Passing Reading</th>        <th class=\"col_heading level0 col4\" >% Overall Passing Rate</th>    </tr>    <tr>        <th class=\"index_name level0\" >School Size</th>        <th class=\"blank\" ></th>        <th class=\"blank\" ></th>        <th class=\"blank\" ></th>        <th class=\"blank\" ></th>        <th class=\"blank\" ></th>    </tr></thead><tbody>\n",
       "                <tr>\n",
       "                        <th id=\"T_3efca6ca_23c1_11ea_8de3_982cbcbf4aaelevel0_row0\" class=\"row_heading level0 row0\" >Small (<1000)</th>\n",
       "                        <td id=\"T_3efca6ca_23c1_11ea_8de3_982cbcbf4aaerow0_col0\" class=\"data row0 col0\" >83.8287</td>\n",
       "                        <td id=\"T_3efca6ca_23c1_11ea_8de3_982cbcbf4aaerow0_col1\" class=\"data row0 col1\" >83.9741</td>\n",
       "                        <td id=\"T_3efca6ca_23c1_11ea_8de3_982cbcbf4aaerow0_col2\" class=\"data row0 col2\" >0.939525</td>\n",
       "                        <td id=\"T_3efca6ca_23c1_11ea_8de3_982cbcbf4aaerow0_col3\" class=\"data row0 col3\" >0.960403</td>\n",
       "                        <td id=\"T_3efca6ca_23c1_11ea_8de3_982cbcbf4aaerow0_col4\" class=\"data row0 col4\" >0.949964</td>\n",
       "            </tr>\n",
       "            <tr>\n",
       "                        <th id=\"T_3efca6ca_23c1_11ea_8de3_982cbcbf4aaelevel0_row1\" class=\"row_heading level0 row1\" >Medium (1000-2000)</th>\n",
       "                        <td id=\"T_3efca6ca_23c1_11ea_8de3_982cbcbf4aaerow1_col0\" class=\"data row1 col0\" >83.3727</td>\n",
       "                        <td id=\"T_3efca6ca_23c1_11ea_8de3_982cbcbf4aaerow1_col1\" class=\"data row1 col1\" >83.868</td>\n",
       "                        <td id=\"T_3efca6ca_23c1_11ea_8de3_982cbcbf4aaerow1_col2\" class=\"data row1 col2\" >0.936165</td>\n",
       "                        <td id=\"T_3efca6ca_23c1_11ea_8de3_982cbcbf4aaerow1_col3\" class=\"data row1 col3\" >0.967731</td>\n",
       "                        <td id=\"T_3efca6ca_23c1_11ea_8de3_982cbcbf4aaerow1_col4\" class=\"data row1 col4\" >0.951948</td>\n",
       "            </tr>\n",
       "            <tr>\n",
       "                        <th id=\"T_3efca6ca_23c1_11ea_8de3_982cbcbf4aaelevel0_row2\" class=\"row_heading level0 row2\" >Large (2000-5000)</th>\n",
       "                        <td id=\"T_3efca6ca_23c1_11ea_8de3_982cbcbf4aaerow2_col0\" class=\"data row2 col0\" >77.4776</td>\n",
       "                        <td id=\"T_3efca6ca_23c1_11ea_8de3_982cbcbf4aaerow2_col1\" class=\"data row2 col1\" >81.1987</td>\n",
       "                        <td id=\"T_3efca6ca_23c1_11ea_8de3_982cbcbf4aaerow2_col2\" class=\"data row2 col2\" >0.686524</td>\n",
       "                        <td id=\"T_3efca6ca_23c1_11ea_8de3_982cbcbf4aaerow2_col3\" class=\"data row2 col3\" >0.821252</td>\n",
       "                        <td id=\"T_3efca6ca_23c1_11ea_8de3_982cbcbf4aaerow2_col4\" class=\"data row2 col4\" >0.753888</td>\n",
       "            </tr>\n",
       "    </tbody></table>"
      ],
      "text/plain": [
       "<pandas.io.formats.style.Styler at 0x1ebebc69988>"
      ]
     },
     "execution_count": 2,
     "metadata": {},
     "output_type": "execute_result"
    }
   ],
   "source": [
    "# Dependencies and Setup\n",
    "import pandas as pd\n",
    "import numpy as np\n",
    "\n",
    "# File to Load (Remember to Change These)\n",
    "school_raw = \"Resources/schools_complete.csv\"\n",
    "student_raw = \"Resources/students_complete.csv\"\n",
    "\n",
    "# Read School and Student Data File and store into Pandas Data Frames\n",
    "scdf = pd.read_csv(school_raw)\n",
    "stdf = pd.read_csv(student_raw)\n",
    "\n",
    "# Combine the data into a single dataset\n",
    "cdf = pd.merge(scdf, stdf, how=\"left\", on=[\"school_name\", \"school_name\"])\n",
    "\n",
    "# Create new df with only the necessary columns\n",
    "ccdf = cdf[['size', 'reading_score', 'math_score']]\n",
    "ccdf = pd.DataFrame(ccdf)\n",
    "\n",
    "# Create variable columns needed for the final output variables\n",
    "ccdf['bps'] = cdf['budget'] / cdf['size']\n",
    "ccdf['pm'] = cdf['math_score'] >= 70\n",
    "ccdf['pr'] = cdf['reading_score'] >= 70\n",
    "\n",
    "# Create the bins that we will use to group our data\n",
    "bins = [0, 1000, 2000, 5000]\n",
    "group_names = [\"Small (<1000)\", \"Medium (1000-2000)\", \"Large (2000-5000)\"]\n",
    "ccdf['School Size'] = pd.cut(ccdf[\"size\"], bins, labels=group_names)\n",
    "\n",
    "# Create groupby object\n",
    "gbo = ccdf.groupby('School Size')\n",
    "\n",
    "# Create new df by running agg function on our groupby object \n",
    "gdf = gbo.agg({  \"reading_score\":\"mean\",\n",
    "                  \"math_score\":\"mean\", \n",
    "                  \"pm\":\"sum\", \n",
    "                  \"pr\":\"sum\"\n",
    "               })\n",
    "\n",
    "# Create a new column to hold the total count variable to get our % Passing columns\n",
    "gdf['tc'] = gbo['pm'].count()\n",
    "\n",
    "\n",
    "gdf['% Passing Math'] = gdf.pm / gdf.tc\n",
    "gdf['% Passing Reading'] = gdf.pr / gdf.tc\n",
    "gdf['% Overall Passing Rate'] = (gdf['% Passing Reading'] + gdf['% Passing Math']) / 2\n",
    "\n",
    "fdf = gdf.rename(columns={'reading_score':'Average Reading Score',\n",
    "                           'math_score':'Average Math Score'})\n",
    "\n",
    "fdf = fdf[[ 'Average Math Score','Average Reading Score', '% Passing Math', '% Passing Reading', '% Overall Passing Rate']]\n",
    "\n",
    "fdf.style"
   ]
  },
  {
   "cell_type": "code",
   "execution_count": null,
   "metadata": {},
   "outputs": [],
   "source": []
  }
 ],
 "metadata": {
  "kernelspec": {
   "display_name": "Python 3",
   "language": "python",
   "name": "python3"
  },
  "language_info": {
   "codemirror_mode": {
    "name": "ipython",
    "version": 3
   },
   "file_extension": ".py",
   "mimetype": "text/x-python",
   "name": "python",
   "nbconvert_exporter": "python",
   "pygments_lexer": "ipython3",
   "version": "3.7.4"
  }
 },
 "nbformat": 4,
 "nbformat_minor": 4
}
