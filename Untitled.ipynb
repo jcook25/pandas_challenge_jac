{
 "cells": [
  {
   "cell_type": "code",
   "execution_count": 2,
   "metadata": {},
   "outputs": [
    {
     "ename": "IndentationError",
     "evalue": "unindent does not match any outer indentation level (<tokenize>, line 9)",
     "output_type": "error",
     "traceback": [
      "\u001b[1;36m  File \u001b[1;32m\"<tokenize>\"\u001b[1;36m, line \u001b[1;32m9\u001b[0m\n\u001b[1;33m    A0 B0    0    1\u001b[0m\n\u001b[1;37m    ^\u001b[0m\n\u001b[1;31mIndentationError\u001b[0m\u001b[1;31m:\u001b[0m unindent does not match any outer indentation level\n"
     ]
    }
   ],
   "source": [
    "> midx = pd.MultiIndex.from_product([['A0','A1'], ['B0','B1','B2','B3']])\n",
    ">>> columns = ['foo', 'bar']\n",
    ">>> dfmi = pd.DataFrame(np.arange(16).reshape((len(midx), len(columns))),\n",
    "                        index=midx, columns=columns)\n",
    "Using the default slice command:\n",
    "\n",
    ">>> dfmi.loc[(slice(None), slice('B0', 'B1')), :]\n",
    "           foo  bar\n",
    "    A0 B0    0    1\n",
    "       B1    2    3\n",
    "    A1 B0    8    9\n",
    "       B1   10   11\n",
    "Using the IndexSlice class for a more intuitive command:\n",
    "\n",
    ">>> idx = pd.IndexSlice\n",
    ">>> dfmi.loc[idx[:, 'B0':'B1'], :]\n",
    "           foo  bar\n",
    "    A0 B0    0    1\n",
    "       B1    2    3\n",
    "    A1 B0    8    9\n",
    "       B1   10   11"
   ]
  },
  {
   "cell_type": "code",
   "execution_count": null,
   "metadata": {},
   "outputs": [],
   "source": []
  }
 ],
 "metadata": {
  "kernelspec": {
   "display_name": "Python 3",
   "language": "python",
   "name": "python3"
  },
  "language_info": {
   "codemirror_mode": {
    "name": "ipython",
    "version": 3
   },
   "file_extension": ".py",
   "mimetype": "text/x-python",
   "name": "python",
   "nbconvert_exporter": "python",
   "pygments_lexer": "ipython3",
   "version": "3.7.4"
  }
 },
 "nbformat": 4,
 "nbformat_minor": 4
}
